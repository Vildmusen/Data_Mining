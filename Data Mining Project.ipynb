{
 "cells": [
  {
   "cell_type": "markdown",
   "metadata": {},
   "source": [
    "# Netflix next banger"
   ]
  },
  {
   "cell_type": "markdown",
   "metadata": {},
   "source": [
    "## Background\n",
    "\n",
    "Netflix is a member-based internet entertainment service founded in 1997. The service allows members to watch tv-series, movies and documentaries through a streaming software on internet-connected devices against a monthly fee. Netflix’s content relies on a complex structure of algorithms that watches customer’s online use and are supposed to optimize satisfying decisions. Thus the company is in great need of user data. (Clares-Gavilán, Fernández-Manzano och Neira 2016, 568-576)\n",
    "\n",
    "The company’s operational environment is characterized by hands-off approach to management. The workforce is heterogeneous, about 3,500 people who \n",
    "leaders trust to have the company’s best interests at heart and act correspondingly. (Gulati 2018, 4-13).  Furthermore a majority of Netflix’s content is from outside sources and the company’s operational flexibility is limited by outside partners (Ciejka 2018, 3-38).\n"
   ]
  },
  {
   "cell_type": "markdown",
   "metadata": {},
   "source": [
    "## Problem description\n",
    "\n",
    "As an effect of high competition and slow growth in the number of new subscribers Netflix share price has declined in fall 2019, hence Netflix wants to maximize the success of their next creation. The problem lies in not knowing what will be best received by the public. (Ny Teknik, 2019)\n",
    "\n",
    "Additionally, by having some of its content come from outside sources, part of the problem becomes choosing the right content. If Netflix have to choose between several newly released movies or series, how will they know which one has the best chance of success?\n",
    "\n",
    "In our project we will gather data from movies and their scripts. We will look for commonly used words, actors, genres and directors to predict which attributes Netflix should be the most interested in when creating their next movie and also which outside-produced movies they should add to their assortment. Finally upcoming movies will also be discussed with our analysed data in mind.\n"
   ]
  },
  {
   "cell_type": "markdown",
   "metadata": {},
   "source": [
    "## Previous Studies\n",
    "There are many different researches that has been carried out in the field using different approaches. Most of the studies found focuses on extracting data from social media to map how users online discussions, like reviews etc can predict a movies success. There are fewer studies that focuses on the attributes of a movie to explore how this is related to a movies success. \n",
    "\n",
    "In Ahmad et. al’s study Movie Success Prediction Using Data Mining (2017) the authors presents a study which aims to predict a movies success based on the weighted attributes budget, actors, director, producer, set locations, story writer, movie release day, competing movie releases at the same time, music, release location and target audience. The weighing is done using a mathematical model. It’s stated that “success cannot be predicted based on a particular attribute” and therefore weighing of multiple attributes will be integrated in this study as well. Furthermore the study gives a basic framework in how to value different attributes and what method to consider for the data mining. Lastly, the article shows how classification and clustering can be used in the context of prediction. It also gives a reference point to compare the results of this study to. \n",
    "\n",
    "Another similar study is Hammad Afzals article Prediction of Movies popularity Using Machine Learning Techniques (2016) which describes how machine learning approaches can predict an movies success based on datasets of IMDB scores and attributes. The most important finding of this article regarding the work of this report is that the attributes which contributed with most information was metascore and number of votes for each movie, Oscar awards won by the movies and the number of screens the movie is going to be screened which is considered in the choosing of attributes for this report. \n",
    "\n",
    "Furthermore Meenakshi et al also try to determine a movies success using several of the same attributes in their 2018 study. In the paper A Data mining Technique for Analyzing and Predicting the success of Movie they employ a decision tree together with clusters to categorize movies as either “Flop”, “Average” or “Hit”. They found that budget was no indication of how well a movie would be rated, and that genre was the most important node in their decision tree. (Meenakshi et al. 2018, 1-6)\n",
    "\n",
    "The paper Predicting movie success and academy awards through sentiment and social network analysis talks about how much influence online communities have on the actual success of movies. The paper focuses on a model that that predicts academy award nominees by researching the opinions of online communities. Afterwards it uses the same approach to see if there is a correlation between online communities and movie success at the box office. By doing this, the study were able to predict different real events, such as nine academy award winners, by considering and using mentioned models on social networks in movie communities online.(Jonas Sebastian Krauss et al. 2008, 9-10). \n"
   ]
  },
  {
   "cell_type": "markdown",
   "metadata": {},
   "source": [
    "## Data collection\n",
    "\n",
    "importing data"
   ]
  },
  {
   "cell_type": "code",
   "execution_count": 1,
   "metadata": {},
   "outputs": [],
   "source": [
    "import csv\n",
    "import numpy as np\n",
    "import pandas as pd\n",
    "        \n",
    "movie_basics = []\n",
    "    \n",
    "with open('data_basics.tsv', encoding=\"utf8\") as tsvfile1:\n",
    "    reader_basic = csv.reader(tsvfile1, delimiter='\\t')\n",
    "    for row in reader_basic:\n",
    "        movie_basics.append(row)\n",
    "        \n",
    "movie_names = []\n",
    "\n",
    "with open('movie_names.tsv', encoding=\"utf8\") as tsvfile4:\n",
    "    reader_rating = csv.reader(tsvfile4, delimiter='\\t')\n",
    "    for row in reader_rating:\n",
    "        movie_names.append(row)\n",
    "        \n",
    "movie_crews = []\n",
    "        \n",
    "with open('data_crew.tsv', encoding=\"utf8\") as tsvfile2:\n",
    "    reader_crew = csv.reader(tsvfile2, delimiter='\\t')\n",
    "    for row in reader_crew:\n",
    "        movie_crews.append(row)\n",
    "        \n",
    "movie_ratings = []\n",
    "\n",
    "with open('data_ratings.tsv', encoding=\"utf8\") as tsvfile3:\n",
    "    reader_rating = csv.reader(tsvfile3, delimiter='\\t')\n",
    "    for row in reader_rating:\n",
    "        movie_ratings.append(row)\n",
    "\n",
    "# Remove header row\n",
    "movie_ratings = movie_ratings[1:]"
   ]
  },
  {
   "cell_type": "markdown",
   "metadata": {},
   "source": [
    "filter out unwanted attributes"
   ]
  },
  {
   "cell_type": "code",
   "execution_count": 30,
   "metadata": {},
   "outputs": [],
   "source": [
    "movie_basics_filtered = []\n",
    "\n",
    "def try_parse_float(input):\n",
    "    try:\n",
    "        number = float(input)\n",
    "    except:\n",
    "        number = -1\n",
    "    return number\n",
    "\n",
    "# get appropriate attributes\n",
    "for movie in movie_basics:\n",
    "    if(len(movie) > 8 and try_parse_float(movie[5]) > 2010):\n",
    "        movie_basics_filtered.append([movie[0], movie[2], movie[5], movie[8]])"
   ]
  },
  {
   "cell_type": "markdown",
   "metadata": {},
   "source": [
    "join movies with ratings"
   ]
  },
  {
   "cell_type": "code",
   "execution_count": 31,
   "metadata": {},
   "outputs": [],
   "source": [
    "movie_basics_above_threshold = []\n",
    "\n",
    "def get_number(string):\n",
    "    try:\n",
    "        return (int) (string[2:])\n",
    "    except:\n",
    "        return 0\n",
    "    \n",
    "# stepping through movie_basics and movie_ratings simultainously, since they are sorted\n",
    "j = 0\n",
    "rating_id = 0\n",
    "for i in range(len(movie_basics_filtered)):\n",
    "    movie_id = get_number(movie_basics_filtered[i][0])\n",
    "    while (rating_id < movie_id):\n",
    "        j += 1\n",
    "        if(j > len(movie_ratings) -1):\n",
    "            break\n",
    "        rating_id = get_number(movie_ratings[j][0])\n",
    "        \n",
    "    if(j > len(movie_ratings) -1):\n",
    "        break\n",
    "    if(movie_id == rating_id and try_parse_float(movie_ratings[j][1]) >= 7.0):\n",
    "        \n",
    "        movie_basics_filtered[i].append([movie_ratings[j][2], movie_ratings[j][1]])\n",
    "\n",
    "movie_basics_and_ratings = []\n",
    "\n",
    "# Only keeping any movie that had a rating \n",
    "for movie in movie_basics_filtered:\n",
    "    if(len(movie) > 4):\n",
    "        movie_basics_and_ratings.append(movie)\n"
   ]
  },
  {
   "cell_type": "markdown",
   "metadata": {},
   "source": [
    "joining movies with directors"
   ]
  },
  {
   "cell_type": "code",
   "execution_count": null,
   "metadata": {},
   "outputs": [],
   "source": [
    "def get_person(person):\n",
    "    person_id = get_number(person)\n",
    "    for i in range (len(movie_names)):\n",
    "        try:\n",
    "            if(get_number(movie_names[i][0]) == person_id):\n",
    "                return movie_names[i][1]\n",
    "        except:\n",
    "            print(i)\n",
    "\n",
    "# stepping through movie_basics and movie_crews and connecting on movie id\n",
    "j = 1\n",
    "crew_id = 0\n",
    "directors = []\n",
    "for i in range(len(movie_basics_and_ratings)):\n",
    "    movie_id = get_number(movie_basics_and_ratings[i][0])\n",
    "    while(crew_id < movie_id):\n",
    "        j += 1\n",
    "        crew_id = get_number(movie_crews[j][0])\n",
    "    if(crew_id == movie_id):\n",
    "        for member in movie_crews[j][1].split(','):\n",
    "            directors.append(get_person(member))\n",
    "        movie_basics_and_ratings[i].append(directors)\n",
    "        directors = []"
   ]
  },
  {
   "cell_type": "code",
   "execution_count": 47,
   "metadata": {},
   "outputs": [
    {
     "data": {
      "text/plain": [
       "151"
      ]
     },
     "execution_count": 47,
     "metadata": {},
     "output_type": "execute_result"
    }
   ],
   "source": [
    "count = 0\n",
    "for movie in movie_basics_and_ratings:\n",
    "    if(len(movie) > 5):\n",
    "        count += 1\n",
    "count"
   ]
  },
  {
   "cell_type": "code",
   "execution_count": 42,
   "metadata": {},
   "outputs": [
    {
     "data": {
      "text/plain": [
       "[['tt10003330',\n",
       "  'Camp Hot Streets',\n",
       "  '2019',\n",
       "  'Action,Animation,Comedy',\n",
       "  ['9', '7.7'],\n",
       "  ['Pete Michels']],\n",
       " ['tt10003408', '129. Bolum', '2019', '\\\\N', ['6', '9.7'], ['Onur Tan']],\n",
       " ['tt10003626',\n",
       "  'The Treasure',\n",
       "  '2019',\n",
       "  'Action,Adventure,Animation',\n",
       "  ['6', '7.0'],\n",
       "  ['Sylvain Blais']],\n",
       " ['tt10003660',\n",
       "  'Adam Acts His Age',\n",
       "  '2019',\n",
       "  'Comedy',\n",
       "  ['83', '8.3'],\n",
       "  ['Kevin Bright']],\n",
       " ['tt10003700',\n",
       "  'Sierra Maestra',\n",
       "  '2019',\n",
       "  'Drama',\n",
       "  ['157', '7.9'],\n",
       "  ['Steve Shill']],\n",
       " ['tt10003824',\n",
       "  'Louis T. Steinhil (No. 27)',\n",
       "  '2019',\n",
       "  'Crime,Drama,Mystery',\n",
       "  ['531', '8.8'],\n",
       "  ['Bill Roe']],\n",
       " ['tt10003978',\n",
       "  'Fiddler: A Miracle of Miracles',\n",
       "  '2019',\n",
       "  'Documentary',\n",
       "  ['114', '7.2'],\n",
       "  [None]],\n",
       " ['tt10004066', 'Papaya Bull', '2017', 'Animation', ['6', '8.5']],\n",
       " ['tt10004088', 'The Rank Room', '2019', 'Reality-TV', ['8', '7.4']],\n",
       " ['tt10004142',\n",
       "  'Crime and Punishment',\n",
       "  '2019',\n",
       "  'Action,Adventure,Drama',\n",
       "  ['690', '7.5']],\n",
       " ['tt10004144',\n",
       "  'Judge, Jury...',\n",
       "  '2019',\n",
       "  'Action,Crime,Drama',\n",
       "  ['204', '8.4']],\n",
       " ['tt10004148',\n",
       "  '...and Executioner',\n",
       "  '2019',\n",
       "  'Action,Crime,Drama',\n",
       "  ['217', '8.5']],\n",
       " ['tt10004154', 'Lost Time', '2019', 'Action,Crime,Drama', ['227', '8.3']],\n",
       " ['tt10004158', 'Daughters', '2019', 'Action,Crime,Drama', ['349', '8.4']],\n",
       " ['tt10004292',\n",
       "  'Çanakkale Geçilmez',\n",
       "  '2019',\n",
       "  'Action,Drama,War',\n",
       "  ['12', '7.8']],\n",
       " ['tt10004300',\n",
       "  '206 (Hollywood Week)',\n",
       "  '2019',\n",
       "  'Game-Show,Music,Reality-TV',\n",
       "  ['27', '8.0']],\n",
       " ['tt10004302',\n",
       "  '207 (Hollywood Week)',\n",
       "  '2019',\n",
       "  'Game-Show,Music,Reality-TV',\n",
       "  ['26', '7.7']],\n",
       " ['tt10004304',\n",
       "  '208 (Showcase/Final Judgement)',\n",
       "  '2019',\n",
       "  'Game-Show,Music,Reality-TV',\n",
       "  ['30', '7.9']],\n",
       " ['tt10004348', \"We Don't Need Another Hero\", '2019', 'Comedy', ['82', '8.0']],\n",
       " ['tt10004354', 'Cabin Fever', '2019', 'Comedy', ['79', '8.3']],\n",
       " ['tt10004456', 'El Camino', '2019', 'Short', ['116', '8.2']],\n",
       " ['tt10004466', 'Beirut City', '2018', 'Comedy', ['13', '8.2']],\n",
       " ['tt10004630',\n",
       "  \"That's What You Call a KO!\",\n",
       "  '2019',\n",
       "  'Action,Game-Show,Reality-TV',\n",
       "  ['22', '8.1']],\n",
       " ['tt10004634', 'Episode #3.4', '2019', 'Comedy,Drama', ['20', '7.8']],\n",
       " ['tt10004658',\n",
       "  'Common Enemies',\n",
       "  '2019',\n",
       "  'Crime,Drama,Mystery',\n",
       "  ['152', '8.4']]]"
      ]
     },
     "execution_count": 42,
     "metadata": {},
     "output_type": "execute_result"
    }
   ],
   "source": [
    "movie_basics_and_ratings[130:155]"
   ]
  },
  {
   "cell_type": "code",
   "execution_count": 32,
   "metadata": {},
   "outputs": [
    {
     "name": "stdout",
     "output_type": "stream",
     "text": [
      "3466\n",
      "Susan Drennan Mcgrath\n"
     ]
    }
   ],
   "source": []
  },
  {
   "cell_type": "code",
   "execution_count": 13,
   "metadata": {},
   "outputs": [
    {
     "data": {
      "text/plain": [
       "101510"
      ]
     },
     "execution_count": 13,
     "metadata": {},
     "output_type": "execute_result"
    }
   ],
   "source": [
    "movie_names[107048][0]\n",
    "get_number(movie_names[97048][0])"
   ]
  },
  {
   "cell_type": "markdown",
   "metadata": {},
   "source": [
    "## Data analysis\n",
    "\n",
    "*Document you choice and motivation for selected data mining method(s) here. Choose a data mining method(s) to use in Python code to perform an analysis of your chosen dataset. Describe why you chose the method(s) and what interesting things you have found from the analysis.*\n",
    "\n",
    "*Replace the contents of this cell with your own text.*"
   ]
  },
  {
   "cell_type": "code",
   "execution_count": 3,
   "metadata": {},
   "outputs": [],
   "source": [
    "# Add your own code"
   ]
  },
  {
   "cell_type": "markdown",
   "metadata": {},
   "source": [
    "## Evaluation of results\n",
    "\n",
    "*Document an evaluation your analysis results and describe how potentially actionable they are.*\n",
    "\n",
    "*Replace the contents of this cell with your own text.*"
   ]
  },
  {
   "cell_type": "code",
   "execution_count": null,
   "metadata": {},
   "outputs": [],
   "source": [
    "# Add your own code"
   ]
  },
  {
   "cell_type": "markdown",
   "metadata": {},
   "source": [
    "## Schedule and description of project plan\n",
    "\n",
    "*Rough schedule for the project beyond the pilot study presented in 3-5. This does not have to be advanced, you can simply provide an estimate based upon reported schedules for similar projects in the literature.*\n",
    "\n",
    "*Replace the contents of this cell with your own text.*"
   ]
  },
  {
   "cell_type": "markdown",
   "metadata": {},
   "source": [
    "## Ethical aspects that need to be considered\n",
    "\n",
    "*Are there ethical aspects that need to be considered? Are there legal implications (e.g., personal data / GDPR)? Are there implications if the case organization is a business, public authority, or nonprofit entity?*\n",
    "\n",
    "*Replace the contents of this cell with your own text.*"
   ]
  },
  {
   "cell_type": "code",
   "execution_count": null,
   "metadata": {},
   "outputs": [],
   "source": []
  }
 ],
 "metadata": {
  "kernelspec": {
   "display_name": "Python 3",
   "language": "python",
   "name": "python3"
  },
  "language_info": {
   "codemirror_mode": {
    "name": "ipython",
    "version": 3
   },
   "file_extension": ".py",
   "mimetype": "text/x-python",
   "name": "python",
   "nbconvert_exporter": "python",
   "pygments_lexer": "ipython3",
   "version": "3.7.4"
  }
 },
 "nbformat": 4,
 "nbformat_minor": 2
}
